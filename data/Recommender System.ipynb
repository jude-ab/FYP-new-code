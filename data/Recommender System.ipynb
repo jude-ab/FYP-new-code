{
 "cells": [
  {
   "cell_type": "code",
   "execution_count": 3,
   "id": "8f40fd10-7ac8-4ba1-82b0-df1115c44ed1",
   "metadata": {},
   "outputs": [],
   "source": [
    "import numpy as np\n",
    "import pandas as pd\n",
    "import matplotlib.pyplot as plt\n",
    "import os"
   ]
  },
  {
   "cell_type": "code",
   "execution_count": 4,
   "id": "9006c1f7-3baa-43ba-9d48-a6684f310d18",
   "metadata": {},
   "outputs": [],
   "source": [
    "poses = pd.read_csv('yogaposes.csv')"
   ]
  },
  {
   "cell_type": "code",
   "execution_count": 5,
   "id": "706ceeb8-a670-40fe-84ac-5d01a1f901ea",
   "metadata": {},
   "outputs": [
    {
     "data": {
      "text/html": [
       "<div>\n",
       "<style scoped>\n",
       "    .dataframe tbody tr th:only-of-type {\n",
       "        vertical-align: middle;\n",
       "    }\n",
       "\n",
       "    .dataframe tbody tr th {\n",
       "        vertical-align: top;\n",
       "    }\n",
       "\n",
       "    .dataframe thead th {\n",
       "        text-align: right;\n",
       "    }\n",
       "</style>\n",
       "<table border=\"1\" class=\"dataframe\">\n",
       "  <thead>\n",
       "    <tr style=\"text-align: right;\">\n",
       "      <th></th>\n",
       "      <th>AID</th>\n",
       "      <th>AName</th>\n",
       "      <th>Description</th>\n",
       "      <th>Benefits</th>\n",
       "      <th>Contraindications</th>\n",
       "      <th>Breathing</th>\n",
       "      <th>awareness</th>\n",
       "      <th>You tube Vdo link</th>\n",
       "      <th>Photo</th>\n",
       "      <th>References</th>\n",
       "      <th>Variations</th>\n",
       "      <th>Level</th>\n",
       "    </tr>\n",
       "  </thead>\n",
       "  <tbody>\n",
       "    <tr>\n",
       "      <th>0</th>\n",
       "      <td>1</td>\n",
       "      <td>Padanguli Naman</td>\n",
       "      <td>Sit in the base position with the legs outstre...</td>\n",
       "      <td>This group of asanas is concerned with looseni...</td>\n",
       "      <td>NaN</td>\n",
       "      <td>Inhale as the toes move backward.\\nExhale as t...</td>\n",
       "      <td>On the stretching produced by the movement and...</td>\n",
       "      <td>NaN</td>\n",
       "      <td>NaN</td>\n",
       "      <td>NaN</td>\n",
       "      <td>NaN</td>\n",
       "      <td>Beginners</td>\n",
       "    </tr>\n",
       "    <tr>\n",
       "      <th>1</th>\n",
       "      <td>2</td>\n",
       "      <td>Goolf Naman</td>\n",
       "      <td>Remain in the base position.\\nSlowly move both...</td>\n",
       "      <td>This group of asanas is concerned with looseni...</td>\n",
       "      <td>NaN</td>\n",
       "      <td>Inhale as the feet move backward.\\nExhale as t...</td>\n",
       "      <td>On the stretch in the foot, ankle, calf and le...</td>\n",
       "      <td>NaN</td>\n",
       "      <td>NaN</td>\n",
       "      <td>NaN</td>\n",
       "      <td>NaN</td>\n",
       "      <td>Beginners</td>\n",
       "    </tr>\n",
       "  </tbody>\n",
       "</table>\n",
       "</div>"
      ],
      "text/plain": [
       "   AID            AName                                        Description  \\\n",
       "0    1  Padanguli Naman  Sit in the base position with the legs outstre...   \n",
       "1    2      Goolf Naman  Remain in the base position.\\nSlowly move both...   \n",
       "\n",
       "                                            Benefits Contraindications  \\\n",
       "0  This group of asanas is concerned with looseni...               NaN   \n",
       "1  This group of asanas is concerned with looseni...               NaN   \n",
       "\n",
       "                                           Breathing  \\\n",
       "0  Inhale as the toes move backward.\\nExhale as t...   \n",
       "1  Inhale as the feet move backward.\\nExhale as t...   \n",
       "\n",
       "                                           awareness  You tube Vdo link  \\\n",
       "0  On the stretching produced by the movement and...                NaN   \n",
       "1  On the stretch in the foot, ankle, calf and le...                NaN   \n",
       "\n",
       "   Photo  References Variations      Level  \n",
       "0    NaN         NaN        NaN  Beginners  \n",
       "1    NaN         NaN        NaN  Beginners  "
      ]
     },
     "execution_count": 5,
     "metadata": {},
     "output_type": "execute_result"
    }
   ],
   "source": [
    "poses.head(2) "
   ]
  },
  {
   "cell_type": "code",
   "execution_count": 6,
   "id": "aabf24b5-fb3f-4d7f-89fb-b31a9adbdb6a",
   "metadata": {},
   "outputs": [],
   "source": [
    "poses.drop(columns=[\"References\", \"You tube Vdo link\", \"Photo\", \"Contraindications\", \"Variations\"], inplace=True)"
   ]
  },
  {
   "cell_type": "code",
   "execution_count": 7,
   "id": "e426ec56-8cb3-4109-92c2-71f5dd7b1c1e",
   "metadata": {},
   "outputs": [
    {
     "data": {
      "text/html": [
       "<div>\n",
       "<style scoped>\n",
       "    .dataframe tbody tr th:only-of-type {\n",
       "        vertical-align: middle;\n",
       "    }\n",
       "\n",
       "    .dataframe tbody tr th {\n",
       "        vertical-align: top;\n",
       "    }\n",
       "\n",
       "    .dataframe thead th {\n",
       "        text-align: right;\n",
       "    }\n",
       "</style>\n",
       "<table border=\"1\" class=\"dataframe\">\n",
       "  <thead>\n",
       "    <tr style=\"text-align: right;\">\n",
       "      <th></th>\n",
       "      <th>AID</th>\n",
       "      <th>AName</th>\n",
       "      <th>Description</th>\n",
       "      <th>Benefits</th>\n",
       "      <th>Breathing</th>\n",
       "      <th>awareness</th>\n",
       "      <th>Level</th>\n",
       "      <th>tags</th>\n",
       "    </tr>\n",
       "  </thead>\n",
       "  <tbody>\n",
       "    <tr>\n",
       "      <th>0</th>\n",
       "      <td>1</td>\n",
       "      <td>Padanguli Naman</td>\n",
       "      <td>Sit in the base position with the legs outstre...</td>\n",
       "      <td>This group of asanas is concerned with looseni...</td>\n",
       "      <td>Inhale as the toes move backward.\\nExhale as t...</td>\n",
       "      <td>On the stretching produced by the movement and...</td>\n",
       "      <td>Beginners</td>\n",
       "      <td>Sit in the base position with the legs outstre...</td>\n",
       "    </tr>\n",
       "    <tr>\n",
       "      <th>1</th>\n",
       "      <td>2</td>\n",
       "      <td>Goolf Naman</td>\n",
       "      <td>Remain in the base position.\\nSlowly move both...</td>\n",
       "      <td>This group of asanas is concerned with looseni...</td>\n",
       "      <td>Inhale as the feet move backward.\\nExhale as t...</td>\n",
       "      <td>On the stretch in the foot, ankle, calf and le...</td>\n",
       "      <td>Beginners</td>\n",
       "      <td>Remain in the base position.\\nSlowly move both...</td>\n",
       "    </tr>\n",
       "    <tr>\n",
       "      <th>2</th>\n",
       "      <td>3</td>\n",
       "      <td>Goolf Chakra</td>\n",
       "      <td>Remain in the base position.\\nKeep the legs sh...</td>\n",
       "      <td>This group of asanas is concerned with looseni...</td>\n",
       "      <td>Inhale on the upward movement.\\nExhale on the ...</td>\n",
       "      <td>On the rotation of the ankle and the breath.</td>\n",
       "      <td>Beginners</td>\n",
       "      <td>Remain in the base position.\\nKeep the legs sh...</td>\n",
       "    </tr>\n",
       "    <tr>\n",
       "      <th>3</th>\n",
       "      <td>4</td>\n",
       "      <td>Goolf Ghooman</td>\n",
       "      <td>Remain in the base position.\\nBend the right k...</td>\n",
       "      <td>All the foot and calf asanas help in returning...</td>\n",
       "      <td>Inhale on the upward movement.\\nExhale on the ...</td>\n",
       "      <td>On the rotation and the breath.</td>\n",
       "      <td>Beginners</td>\n",
       "      <td>Remain in the base position.\\nBend the right k...</td>\n",
       "    </tr>\n",
       "    <tr>\n",
       "      <th>4</th>\n",
       "      <td>5</td>\n",
       "      <td>Janufalak Akarshan</td>\n",
       "      <td>Stay in the base position.\\nGently contract th...</td>\n",
       "      <td>This group of asanas is concerned with looseni...</td>\n",
       "      <td>Inhale while contracting.\\nExhale while relaxi...</td>\n",
       "      <td>On the contraction and the breath.</td>\n",
       "      <td>Beginners</td>\n",
       "      <td>Stay in the base position.\\nGently contract th...</td>\n",
       "    </tr>\n",
       "  </tbody>\n",
       "</table>\n",
       "</div>"
      ],
      "text/plain": [
       "   AID               AName                                        Description  \\\n",
       "0    1     Padanguli Naman  Sit in the base position with the legs outstre...   \n",
       "1    2         Goolf Naman  Remain in the base position.\\nSlowly move both...   \n",
       "2    3        Goolf Chakra  Remain in the base position.\\nKeep the legs sh...   \n",
       "3    4       Goolf Ghooman  Remain in the base position.\\nBend the right k...   \n",
       "4    5  Janufalak Akarshan  Stay in the base position.\\nGently contract th...   \n",
       "\n",
       "                                            Benefits  \\\n",
       "0  This group of asanas is concerned with looseni...   \n",
       "1  This group of asanas is concerned with looseni...   \n",
       "2  This group of asanas is concerned with looseni...   \n",
       "3  All the foot and calf asanas help in returning...   \n",
       "4  This group of asanas is concerned with looseni...   \n",
       "\n",
       "                                           Breathing  \\\n",
       "0  Inhale as the toes move backward.\\nExhale as t...   \n",
       "1  Inhale as the feet move backward.\\nExhale as t...   \n",
       "2  Inhale on the upward movement.\\nExhale on the ...   \n",
       "3  Inhale on the upward movement.\\nExhale on the ...   \n",
       "4  Inhale while contracting.\\nExhale while relaxi...   \n",
       "\n",
       "                                           awareness      Level  \\\n",
       "0  On the stretching produced by the movement and...  Beginners   \n",
       "1  On the stretch in the foot, ankle, calf and le...  Beginners   \n",
       "2       On the rotation of the ankle and the breath.  Beginners   \n",
       "3                    On the rotation and the breath.  Beginners   \n",
       "4                 On the contraction and the breath.  Beginners   \n",
       "\n",
       "                                                tags  \n",
       "0  Sit in the base position with the legs outstre...  \n",
       "1  Remain in the base position.\\nSlowly move both...  \n",
       "2  Remain in the base position.\\nKeep the legs sh...  \n",
       "3  Remain in the base position.\\nBend the right k...  \n",
       "4  Stay in the base position.\\nGently contract th...  "
      ]
     },
     "execution_count": 7,
     "metadata": {},
     "output_type": "execute_result"
    }
   ],
   "source": [
    "poses['tags'] = poses.drop(['AID', 'AName'], axis=1).apply(lambda row: ''.join(map(str, row)), axis=1)\n",
    "poses.head()"
   ]
  },
  {
   "cell_type": "code",
   "execution_count": 8,
   "id": "94a590bd-0a97-4c8d-a9e9-79e8746b055a",
   "metadata": {},
   "outputs": [
    {
     "name": "stdout",
     "output_type": "stream",
     "text": [
      "   AID               AName                                        Description  \\\n",
      "0    1     Padanguli Naman  Sit in the base position with the legs outstre...   \n",
      "1    2         Goolf Naman  Remain in the base position.\\nSlowly move both...   \n",
      "2    3        Goolf Chakra  Remain in the base position.\\nKeep the legs sh...   \n",
      "3    4       Goolf Ghooman  Remain in the base position.\\nBend the right k...   \n",
      "4    5  Janufalak Akarshan  Stay in the base position.\\nGently contract th...   \n",
      "\n",
      "                                            Benefits  \\\n",
      "0  This group of asanas is concerned with looseni...   \n",
      "1  This group of asanas is concerned with looseni...   \n",
      "2  This group of asanas is concerned with looseni...   \n",
      "3  All the foot and calf asanas help in returning...   \n",
      "4  This group of asanas is concerned with looseni...   \n",
      "\n",
      "                                           Breathing  \\\n",
      "0  Inhale as the toes move backward.\\nExhale as t...   \n",
      "1  Inhale as the feet move backward.\\nExhale as t...   \n",
      "2  Inhale on the upward movement.\\nExhale on the ...   \n",
      "3  Inhale on the upward movement.\\nExhale on the ...   \n",
      "4  Inhale while contracting.\\nExhale while relaxi...   \n",
      "\n",
      "                                           awareness      Level  \\\n",
      "0  On the stretching produced by the movement and...  Beginners   \n",
      "1  On the stretch in the foot, ankle, calf and le...  Beginners   \n",
      "2       On the rotation of the ankle and the breath.  Beginners   \n",
      "3                    On the rotation and the breath.  Beginners   \n",
      "4                 On the contraction and the breath.  Beginners   \n",
      "\n",
      "                                                tags  \n",
      "0  Sit in the base position with the legs outstre...  \n",
      "1  Remain in the base position. Slowly move both ...  \n",
      "2  Remain in the base position. Keep the legs sho...  \n",
      "3  Remain in the base position. Bend the right kn...  \n",
      "4  Stay in the base position. Gently contract the...  \n"
     ]
    }
   ],
   "source": [
    "columns_to_replace = ['tags']\n",
    "\n",
    "for column in columns_to_replace:\n",
    "    poses[column] = poses[column].str.replace('\\n', ' ', regex=False)\n",
    "\n",
    "# Check the DataFrame to see if the newline characters have been replaced\n",
    "print(poses.head())"
   ]
  },
  {
   "cell_type": "code",
   "execution_count": 9,
   "id": "2376f3a1-15e1-446e-b411-4179390d93e6",
   "metadata": {},
   "outputs": [
    {
     "data": {
      "text/html": [
       "<div>\n",
       "<style scoped>\n",
       "    .dataframe tbody tr th:only-of-type {\n",
       "        vertical-align: middle;\n",
       "    }\n",
       "\n",
       "    .dataframe tbody tr th {\n",
       "        vertical-align: top;\n",
       "    }\n",
       "\n",
       "    .dataframe thead th {\n",
       "        text-align: right;\n",
       "    }\n",
       "</style>\n",
       "<table border=\"1\" class=\"dataframe\">\n",
       "  <thead>\n",
       "    <tr style=\"text-align: right;\">\n",
       "      <th></th>\n",
       "      <th>AID</th>\n",
       "      <th>AName</th>\n",
       "      <th>Description</th>\n",
       "      <th>Benefits</th>\n",
       "      <th>Breathing</th>\n",
       "      <th>awareness</th>\n",
       "      <th>Level</th>\n",
       "      <th>tags</th>\n",
       "    </tr>\n",
       "  </thead>\n",
       "  <tbody>\n",
       "    <tr>\n",
       "      <th>0</th>\n",
       "      <td>1</td>\n",
       "      <td>Padanguli Naman</td>\n",
       "      <td>Sit in the base position with the legs outstre...</td>\n",
       "      <td>This group of asanas is concerned with looseni...</td>\n",
       "      <td>Inhale as the toes move backward.\\nExhale as t...</td>\n",
       "      <td>On the stretching produced by the movement and...</td>\n",
       "      <td>Beginners</td>\n",
       "      <td>Sit in the base position with the legs outstre...</td>\n",
       "    </tr>\n",
       "    <tr>\n",
       "      <th>1</th>\n",
       "      <td>2</td>\n",
       "      <td>Goolf Naman</td>\n",
       "      <td>Remain in the base position.\\nSlowly move both...</td>\n",
       "      <td>This group of asanas is concerned with looseni...</td>\n",
       "      <td>Inhale as the feet move backward.\\nExhale as t...</td>\n",
       "      <td>On the stretch in the foot, ankle, calf and le...</td>\n",
       "      <td>Beginners</td>\n",
       "      <td>Remain in the base position. Slowly move both ...</td>\n",
       "    </tr>\n",
       "    <tr>\n",
       "      <th>2</th>\n",
       "      <td>3</td>\n",
       "      <td>Goolf Chakra</td>\n",
       "      <td>Remain in the base position.\\nKeep the legs sh...</td>\n",
       "      <td>This group of asanas is concerned with looseni...</td>\n",
       "      <td>Inhale on the upward movement.\\nExhale on the ...</td>\n",
       "      <td>On the rotation of the ankle and the breath.</td>\n",
       "      <td>Beginners</td>\n",
       "      <td>Remain in the base position. Keep the legs sho...</td>\n",
       "    </tr>\n",
       "    <tr>\n",
       "      <th>3</th>\n",
       "      <td>4</td>\n",
       "      <td>Goolf Ghooman</td>\n",
       "      <td>Remain in the base position.\\nBend the right k...</td>\n",
       "      <td>All the foot and calf asanas help in returning...</td>\n",
       "      <td>Inhale on the upward movement.\\nExhale on the ...</td>\n",
       "      <td>On the rotation and the breath.</td>\n",
       "      <td>Beginners</td>\n",
       "      <td>Remain in the base position. Bend the right kn...</td>\n",
       "    </tr>\n",
       "    <tr>\n",
       "      <th>4</th>\n",
       "      <td>5</td>\n",
       "      <td>Janufalak Akarshan</td>\n",
       "      <td>Stay in the base position.\\nGently contract th...</td>\n",
       "      <td>This group of asanas is concerned with looseni...</td>\n",
       "      <td>Inhale while contracting.\\nExhale while relaxi...</td>\n",
       "      <td>On the contraction and the breath.</td>\n",
       "      <td>Beginners</td>\n",
       "      <td>Stay in the base position. Gently contract the...</td>\n",
       "    </tr>\n",
       "  </tbody>\n",
       "</table>\n",
       "</div>"
      ],
      "text/plain": [
       "   AID               AName                                        Description  \\\n",
       "0    1     Padanguli Naman  Sit in the base position with the legs outstre...   \n",
       "1    2         Goolf Naman  Remain in the base position.\\nSlowly move both...   \n",
       "2    3        Goolf Chakra  Remain in the base position.\\nKeep the legs sh...   \n",
       "3    4       Goolf Ghooman  Remain in the base position.\\nBend the right k...   \n",
       "4    5  Janufalak Akarshan  Stay in the base position.\\nGently contract th...   \n",
       "\n",
       "                                            Benefits  \\\n",
       "0  This group of asanas is concerned with looseni...   \n",
       "1  This group of asanas is concerned with looseni...   \n",
       "2  This group of asanas is concerned with looseni...   \n",
       "3  All the foot and calf asanas help in returning...   \n",
       "4  This group of asanas is concerned with looseni...   \n",
       "\n",
       "                                           Breathing  \\\n",
       "0  Inhale as the toes move backward.\\nExhale as t...   \n",
       "1  Inhale as the feet move backward.\\nExhale as t...   \n",
       "2  Inhale on the upward movement.\\nExhale on the ...   \n",
       "3  Inhale on the upward movement.\\nExhale on the ...   \n",
       "4  Inhale while contracting.\\nExhale while relaxi...   \n",
       "\n",
       "                                           awareness      Level  \\\n",
       "0  On the stretching produced by the movement and...  Beginners   \n",
       "1  On the stretch in the foot, ankle, calf and le...  Beginners   \n",
       "2       On the rotation of the ankle and the breath.  Beginners   \n",
       "3                    On the rotation and the breath.  Beginners   \n",
       "4                 On the contraction and the breath.  Beginners   \n",
       "\n",
       "                                                tags  \n",
       "0  Sit in the base position with the legs outstre...  \n",
       "1  Remain in the base position. Slowly move both ...  \n",
       "2  Remain in the base position. Keep the legs sho...  \n",
       "3  Remain in the base position. Bend the right kn...  \n",
       "4  Stay in the base position. Gently contract the...  "
      ]
     },
     "execution_count": 9,
     "metadata": {},
     "output_type": "execute_result"
    }
   ],
   "source": [
    "poses.head()"
   ]
  },
  {
   "cell_type": "code",
   "execution_count": 10,
   "id": "4a58b8e0-76e5-45a2-9181-8bcfb0f4bea8",
   "metadata": {},
   "outputs": [
    {
     "name": "stdout",
     "output_type": "stream",
     "text": [
      "   AID               AName                                        Description  \\\n",
      "0    1     Padanguli Naman  Sit in the base position with the legs outstre...   \n",
      "1    2         Goolf Naman  Remain in the base position. Slowly move both ...   \n",
      "2    3        Goolf Chakra  Remain in the base position. Keep the legs sho...   \n",
      "3    4       Goolf Ghooman  Remain in the base position. Bend the right kn...   \n",
      "4    5  Janufalak Akarshan  Stay in the base position. Gently contract the...   \n",
      "\n",
      "                                            Benefits  \\\n",
      "0  This group of asanas is concerned with looseni...   \n",
      "1  This group of asanas is concerned with looseni...   \n",
      "2  This group of asanas is concerned with looseni...   \n",
      "3  All the foot and calf asanas help in returning...   \n",
      "4  This group of asanas is concerned with looseni...   \n",
      "\n",
      "                                           Breathing  \\\n",
      "0  Inhale as the toes move backward. Exhale as th...   \n",
      "1  Inhale as the feet move backward. Exhale as th...   \n",
      "2  Inhale on the upward movement. Exhale on the d...   \n",
      "3  Inhale on the upward movement. Exhale on the d...   \n",
      "4  Inhale while contracting. Exhale while relaxin...   \n",
      "\n",
      "                                           awareness      Level  \\\n",
      "0  On the stretching produced by the movement and...  Beginners   \n",
      "1  On the stretch in the foot, ankle, calf and le...  Beginners   \n",
      "2       On the rotation of the ankle and the breath.  Beginners   \n",
      "3                    On the rotation and the breath.  Beginners   \n",
      "4                 On the contraction and the breath.  Beginners   \n",
      "\n",
      "                                                tags  \n",
      "0  Sit in the base position with the legs outstre...  \n",
      "1  Remain in the base position. Slowly move both ...  \n",
      "2  Remain in the base position. Keep the legs sho...  \n",
      "3  Remain in the base position. Bend the right kn...  \n",
      "4  Stay in the base position. Gently contract the...  \n"
     ]
    }
   ],
   "source": [
    "columns_to_replace = ['Description', 'Benefits', 'Breathing', 'awareness']\n",
    "\n",
    "for column in columns_to_replace:\n",
    "    poses[column] = poses[column].str.replace('\\n', ' ', regex=False)\n",
    "\n",
    "# Check the DataFrame to see if the newline characters have been replaced\n",
    "print(poses.head())"
   ]
  },
  {
   "cell_type": "code",
   "execution_count": 11,
   "id": "0ef3ef94-f10f-48e7-b888-5c7b3b587c73",
   "metadata": {},
   "outputs": [
    {
     "data": {
      "text/html": [
       "<div>\n",
       "<style scoped>\n",
       "    .dataframe tbody tr th:only-of-type {\n",
       "        vertical-align: middle;\n",
       "    }\n",
       "\n",
       "    .dataframe tbody tr th {\n",
       "        vertical-align: top;\n",
       "    }\n",
       "\n",
       "    .dataframe thead th {\n",
       "        text-align: right;\n",
       "    }\n",
       "</style>\n",
       "<table border=\"1\" class=\"dataframe\">\n",
       "  <thead>\n",
       "    <tr style=\"text-align: right;\">\n",
       "      <th></th>\n",
       "      <th>AID</th>\n",
       "      <th>AName</th>\n",
       "      <th>Description</th>\n",
       "      <th>Benefits</th>\n",
       "      <th>Breathing</th>\n",
       "      <th>awareness</th>\n",
       "      <th>Level</th>\n",
       "      <th>tags</th>\n",
       "    </tr>\n",
       "  </thead>\n",
       "  <tbody>\n",
       "    <tr>\n",
       "      <th>0</th>\n",
       "      <td>1</td>\n",
       "      <td>Padanguli Naman</td>\n",
       "      <td>Sit in the base position with the legs outstre...</td>\n",
       "      <td>This group of asanas is concerned with looseni...</td>\n",
       "      <td>Inhale as the toes move backward. Exhale as th...</td>\n",
       "      <td>On the stretching produced by the movement and...</td>\n",
       "      <td>Beginners</td>\n",
       "      <td>Sit in the base position with the legs outstre...</td>\n",
       "    </tr>\n",
       "    <tr>\n",
       "      <th>1</th>\n",
       "      <td>2</td>\n",
       "      <td>Goolf Naman</td>\n",
       "      <td>Remain in the base position. Slowly move both ...</td>\n",
       "      <td>This group of asanas is concerned with looseni...</td>\n",
       "      <td>Inhale as the feet move backward. Exhale as th...</td>\n",
       "      <td>On the stretch in the foot, ankle, calf and le...</td>\n",
       "      <td>Beginners</td>\n",
       "      <td>Remain in the base position. Slowly move both ...</td>\n",
       "    </tr>\n",
       "    <tr>\n",
       "      <th>2</th>\n",
       "      <td>3</td>\n",
       "      <td>Goolf Chakra</td>\n",
       "      <td>Remain in the base position. Keep the legs sho...</td>\n",
       "      <td>This group of asanas is concerned with looseni...</td>\n",
       "      <td>Inhale on the upward movement. Exhale on the d...</td>\n",
       "      <td>On the rotation of the ankle and the breath.</td>\n",
       "      <td>Beginners</td>\n",
       "      <td>Remain in the base position. Keep the legs sho...</td>\n",
       "    </tr>\n",
       "    <tr>\n",
       "      <th>3</th>\n",
       "      <td>4</td>\n",
       "      <td>Goolf Ghooman</td>\n",
       "      <td>Remain in the base position. Bend the right kn...</td>\n",
       "      <td>All the foot and calf asanas help in returning...</td>\n",
       "      <td>Inhale on the upward movement. Exhale on the d...</td>\n",
       "      <td>On the rotation and the breath.</td>\n",
       "      <td>Beginners</td>\n",
       "      <td>Remain in the base position. Bend the right kn...</td>\n",
       "    </tr>\n",
       "    <tr>\n",
       "      <th>4</th>\n",
       "      <td>5</td>\n",
       "      <td>Janufalak Akarshan</td>\n",
       "      <td>Stay in the base position. Gently contract the...</td>\n",
       "      <td>This group of asanas is concerned with looseni...</td>\n",
       "      <td>Inhale while contracting. Exhale while relaxin...</td>\n",
       "      <td>On the contraction and the breath.</td>\n",
       "      <td>Beginners</td>\n",
       "      <td>Stay in the base position. Gently contract the...</td>\n",
       "    </tr>\n",
       "  </tbody>\n",
       "</table>\n",
       "</div>"
      ],
      "text/plain": [
       "   AID               AName                                        Description  \\\n",
       "0    1     Padanguli Naman  Sit in the base position with the legs outstre...   \n",
       "1    2         Goolf Naman  Remain in the base position. Slowly move both ...   \n",
       "2    3        Goolf Chakra  Remain in the base position. Keep the legs sho...   \n",
       "3    4       Goolf Ghooman  Remain in the base position. Bend the right kn...   \n",
       "4    5  Janufalak Akarshan  Stay in the base position. Gently contract the...   \n",
       "\n",
       "                                            Benefits  \\\n",
       "0  This group of asanas is concerned with looseni...   \n",
       "1  This group of asanas is concerned with looseni...   \n",
       "2  This group of asanas is concerned with looseni...   \n",
       "3  All the foot and calf asanas help in returning...   \n",
       "4  This group of asanas is concerned with looseni...   \n",
       "\n",
       "                                           Breathing  \\\n",
       "0  Inhale as the toes move backward. Exhale as th...   \n",
       "1  Inhale as the feet move backward. Exhale as th...   \n",
       "2  Inhale on the upward movement. Exhale on the d...   \n",
       "3  Inhale on the upward movement. Exhale on the d...   \n",
       "4  Inhale while contracting. Exhale while relaxin...   \n",
       "\n",
       "                                           awareness      Level  \\\n",
       "0  On the stretching produced by the movement and...  Beginners   \n",
       "1  On the stretch in the foot, ankle, calf and le...  Beginners   \n",
       "2       On the rotation of the ankle and the breath.  Beginners   \n",
       "3                    On the rotation and the breath.  Beginners   \n",
       "4                 On the contraction and the breath.  Beginners   \n",
       "\n",
       "                                                tags  \n",
       "0  Sit in the base position with the legs outstre...  \n",
       "1  Remain in the base position. Slowly move both ...  \n",
       "2  Remain in the base position. Keep the legs sho...  \n",
       "3  Remain in the base position. Bend the right kn...  \n",
       "4  Stay in the base position. Gently contract the...  "
      ]
     },
     "execution_count": 11,
     "metadata": {},
     "output_type": "execute_result"
    }
   ],
   "source": [
    "poses.head()"
   ]
  },
  {
   "cell_type": "code",
   "execution_count": 12,
   "id": "f5031e10-3380-491e-8c5b-15ec89b91c84",
   "metadata": {},
   "outputs": [
    {
     "data": {
      "text/html": [
       "<div>\n",
       "<style scoped>\n",
       "    .dataframe tbody tr th:only-of-type {\n",
       "        vertical-align: middle;\n",
       "    }\n",
       "\n",
       "    .dataframe tbody tr th {\n",
       "        vertical-align: top;\n",
       "    }\n",
       "\n",
       "    .dataframe thead th {\n",
       "        text-align: right;\n",
       "    }\n",
       "</style>\n",
       "<table border=\"1\" class=\"dataframe\">\n",
       "  <thead>\n",
       "    <tr style=\"text-align: right;\">\n",
       "      <th></th>\n",
       "      <th>AID</th>\n",
       "      <th>AName</th>\n",
       "      <th>Description</th>\n",
       "      <th>Benefits</th>\n",
       "      <th>Breathing</th>\n",
       "      <th>awareness</th>\n",
       "      <th>Level</th>\n",
       "      <th>tags</th>\n",
       "    </tr>\n",
       "  </thead>\n",
       "  <tbody>\n",
       "    <tr>\n",
       "      <th>0</th>\n",
       "      <td>1</td>\n",
       "      <td>Padanguli Naman</td>\n",
       "      <td>Sit in the base position with the legs outstre...</td>\n",
       "      <td>[This, group, of, asanas, is, concerned, with,...</td>\n",
       "      <td>Inhale as the toes move backward. Exhale as th...</td>\n",
       "      <td>On the stretching produced by the movement and...</td>\n",
       "      <td>Beginners</td>\n",
       "      <td>Sit in the base position with the legs outstre...</td>\n",
       "    </tr>\n",
       "    <tr>\n",
       "      <th>1</th>\n",
       "      <td>2</td>\n",
       "      <td>Goolf Naman</td>\n",
       "      <td>Remain in the base position. Slowly move both ...</td>\n",
       "      <td>[This, group, of, asanas, is, concerned, with,...</td>\n",
       "      <td>Inhale as the feet move backward. Exhale as th...</td>\n",
       "      <td>On the stretch in the foot, ankle, calf and le...</td>\n",
       "      <td>Beginners</td>\n",
       "      <td>Remain in the base position. Slowly move both ...</td>\n",
       "    </tr>\n",
       "    <tr>\n",
       "      <th>2</th>\n",
       "      <td>3</td>\n",
       "      <td>Goolf Chakra</td>\n",
       "      <td>Remain in the base position. Keep the legs sho...</td>\n",
       "      <td>[This, group, of, asanas, is, concerned, with,...</td>\n",
       "      <td>Inhale on the upward movement. Exhale on the d...</td>\n",
       "      <td>On the rotation of the ankle and the breath.</td>\n",
       "      <td>Beginners</td>\n",
       "      <td>Remain in the base position. Keep the legs sho...</td>\n",
       "    </tr>\n",
       "    <tr>\n",
       "      <th>3</th>\n",
       "      <td>4</td>\n",
       "      <td>Goolf Ghooman</td>\n",
       "      <td>Remain in the base position. Bend the right kn...</td>\n",
       "      <td>[All, the, foot, and, calf, asanas, help, in, ...</td>\n",
       "      <td>Inhale on the upward movement. Exhale on the d...</td>\n",
       "      <td>On the rotation and the breath.</td>\n",
       "      <td>Beginners</td>\n",
       "      <td>Remain in the base position. Bend the right kn...</td>\n",
       "    </tr>\n",
       "    <tr>\n",
       "      <th>4</th>\n",
       "      <td>5</td>\n",
       "      <td>Janufalak Akarshan</td>\n",
       "      <td>Stay in the base position. Gently contract the...</td>\n",
       "      <td>[This, group, of, asanas, is, concerned, with,...</td>\n",
       "      <td>Inhale while contracting. Exhale while relaxin...</td>\n",
       "      <td>On the contraction and the breath.</td>\n",
       "      <td>Beginners</td>\n",
       "      <td>Stay in the base position. Gently contract the...</td>\n",
       "    </tr>\n",
       "  </tbody>\n",
       "</table>\n",
       "</div>"
      ],
      "text/plain": [
       "   AID               AName                                        Description  \\\n",
       "0    1     Padanguli Naman  Sit in the base position with the legs outstre...   \n",
       "1    2         Goolf Naman  Remain in the base position. Slowly move both ...   \n",
       "2    3        Goolf Chakra  Remain in the base position. Keep the legs sho...   \n",
       "3    4       Goolf Ghooman  Remain in the base position. Bend the right kn...   \n",
       "4    5  Janufalak Akarshan  Stay in the base position. Gently contract the...   \n",
       "\n",
       "                                            Benefits  \\\n",
       "0  [This, group, of, asanas, is, concerned, with,...   \n",
       "1  [This, group, of, asanas, is, concerned, with,...   \n",
       "2  [This, group, of, asanas, is, concerned, with,...   \n",
       "3  [All, the, foot, and, calf, asanas, help, in, ...   \n",
       "4  [This, group, of, asanas, is, concerned, with,...   \n",
       "\n",
       "                                           Breathing  \\\n",
       "0  Inhale as the toes move backward. Exhale as th...   \n",
       "1  Inhale as the feet move backward. Exhale as th...   \n",
       "2  Inhale on the upward movement. Exhale on the d...   \n",
       "3  Inhale on the upward movement. Exhale on the d...   \n",
       "4  Inhale while contracting. Exhale while relaxin...   \n",
       "\n",
       "                                           awareness      Level  \\\n",
       "0  On the stretching produced by the movement and...  Beginners   \n",
       "1  On the stretch in the foot, ankle, calf and le...  Beginners   \n",
       "2       On the rotation of the ankle and the breath.  Beginners   \n",
       "3                    On the rotation and the breath.  Beginners   \n",
       "4                 On the contraction and the breath.  Beginners   \n",
       "\n",
       "                                                tags  \n",
       "0  Sit in the base position with the legs outstre...  \n",
       "1  Remain in the base position. Slowly move both ...  \n",
       "2  Remain in the base position. Keep the legs sho...  \n",
       "3  Remain in the base position. Bend the right kn...  \n",
       "4  Stay in the base position. Gently contract the...  "
      ]
     },
     "execution_count": 12,
     "metadata": {},
     "output_type": "execute_result"
    }
   ],
   "source": [
    "poses['Benefits'] = poses['Benefits'].apply(lambda x: x.split() if type(x) == str else x)\n",
    "poses.head()"
   ]
  },
  {
   "cell_type": "code",
   "execution_count": 13,
   "id": "3963a5b3-37f5-420d-903d-5b55a3e5ff67",
   "metadata": {},
   "outputs": [
    {
     "data": {
      "text/html": [
       "<div>\n",
       "<style scoped>\n",
       "    .dataframe tbody tr th:only-of-type {\n",
       "        vertical-align: middle;\n",
       "    }\n",
       "\n",
       "    .dataframe tbody tr th {\n",
       "        vertical-align: top;\n",
       "    }\n",
       "\n",
       "    .dataframe thead th {\n",
       "        text-align: right;\n",
       "    }\n",
       "</style>\n",
       "<table border=\"1\" class=\"dataframe\">\n",
       "  <thead>\n",
       "    <tr style=\"text-align: right;\">\n",
       "      <th></th>\n",
       "      <th>AID</th>\n",
       "      <th>AName</th>\n",
       "      <th>Description</th>\n",
       "      <th>Benefits</th>\n",
       "      <th>Breathing</th>\n",
       "      <th>awareness</th>\n",
       "      <th>Level</th>\n",
       "      <th>tags</th>\n",
       "    </tr>\n",
       "  </thead>\n",
       "  <tbody>\n",
       "    <tr>\n",
       "      <th>0</th>\n",
       "      <td>1</td>\n",
       "      <td>Padanguli Naman</td>\n",
       "      <td>[Sit, in, the, base, position, with, the, legs...</td>\n",
       "      <td>[This, group, of, asanas, is, concerned, with,...</td>\n",
       "      <td>[Inhale, as, the, toes, move, backward., Exhal...</td>\n",
       "      <td>[On, the, stretching, produced, by, the, movem...</td>\n",
       "      <td>Beginners</td>\n",
       "      <td>Sit in the base position with the legs outstre...</td>\n",
       "    </tr>\n",
       "    <tr>\n",
       "      <th>1</th>\n",
       "      <td>2</td>\n",
       "      <td>Goolf Naman</td>\n",
       "      <td>[Remain, in, the, base, position., Slowly, mov...</td>\n",
       "      <td>[This, group, of, asanas, is, concerned, with,...</td>\n",
       "      <td>[Inhale, as, the, feet, move, backward., Exhal...</td>\n",
       "      <td>[On, the, stretch, in, the, foot,, ankle,, cal...</td>\n",
       "      <td>Beginners</td>\n",
       "      <td>Remain in the base position. Slowly move both ...</td>\n",
       "    </tr>\n",
       "    <tr>\n",
       "      <th>2</th>\n",
       "      <td>3</td>\n",
       "      <td>Goolf Chakra</td>\n",
       "      <td>[Remain, in, the, base, position., Keep, the, ...</td>\n",
       "      <td>[This, group, of, asanas, is, concerned, with,...</td>\n",
       "      <td>[Inhale, on, the, upward, movement., Exhale, o...</td>\n",
       "      <td>[On, the, rotation, of, the, ankle, and, the, ...</td>\n",
       "      <td>Beginners</td>\n",
       "      <td>Remain in the base position. Keep the legs sho...</td>\n",
       "    </tr>\n",
       "    <tr>\n",
       "      <th>3</th>\n",
       "      <td>4</td>\n",
       "      <td>Goolf Ghooman</td>\n",
       "      <td>[Remain, in, the, base, position., Bend, the, ...</td>\n",
       "      <td>[All, the, foot, and, calf, asanas, help, in, ...</td>\n",
       "      <td>[Inhale, on, the, upward, movement., Exhale, o...</td>\n",
       "      <td>[On, the, rotation, and, the, breath.]</td>\n",
       "      <td>Beginners</td>\n",
       "      <td>Remain in the base position. Bend the right kn...</td>\n",
       "    </tr>\n",
       "    <tr>\n",
       "      <th>4</th>\n",
       "      <td>5</td>\n",
       "      <td>Janufalak Akarshan</td>\n",
       "      <td>[Stay, in, the, base, position., Gently, contr...</td>\n",
       "      <td>[This, group, of, asanas, is, concerned, with,...</td>\n",
       "      <td>[Inhale, while, contracting., Exhale, while, r...</td>\n",
       "      <td>[On, the, contraction, and, the, breath.]</td>\n",
       "      <td>Beginners</td>\n",
       "      <td>Stay in the base position. Gently contract the...</td>\n",
       "    </tr>\n",
       "  </tbody>\n",
       "</table>\n",
       "</div>"
      ],
      "text/plain": [
       "   AID               AName                                        Description  \\\n",
       "0    1     Padanguli Naman  [Sit, in, the, base, position, with, the, legs...   \n",
       "1    2         Goolf Naman  [Remain, in, the, base, position., Slowly, mov...   \n",
       "2    3        Goolf Chakra  [Remain, in, the, base, position., Keep, the, ...   \n",
       "3    4       Goolf Ghooman  [Remain, in, the, base, position., Bend, the, ...   \n",
       "4    5  Janufalak Akarshan  [Stay, in, the, base, position., Gently, contr...   \n",
       "\n",
       "                                            Benefits  \\\n",
       "0  [This, group, of, asanas, is, concerned, with,...   \n",
       "1  [This, group, of, asanas, is, concerned, with,...   \n",
       "2  [This, group, of, asanas, is, concerned, with,...   \n",
       "3  [All, the, foot, and, calf, asanas, help, in, ...   \n",
       "4  [This, group, of, asanas, is, concerned, with,...   \n",
       "\n",
       "                                           Breathing  \\\n",
       "0  [Inhale, as, the, toes, move, backward., Exhal...   \n",
       "1  [Inhale, as, the, feet, move, backward., Exhal...   \n",
       "2  [Inhale, on, the, upward, movement., Exhale, o...   \n",
       "3  [Inhale, on, the, upward, movement., Exhale, o...   \n",
       "4  [Inhale, while, contracting., Exhale, while, r...   \n",
       "\n",
       "                                           awareness      Level  \\\n",
       "0  [On, the, stretching, produced, by, the, movem...  Beginners   \n",
       "1  [On, the, stretch, in, the, foot,, ankle,, cal...  Beginners   \n",
       "2  [On, the, rotation, of, the, ankle, and, the, ...  Beginners   \n",
       "3             [On, the, rotation, and, the, breath.]  Beginners   \n",
       "4          [On, the, contraction, and, the, breath.]  Beginners   \n",
       "\n",
       "                                                tags  \n",
       "0  Sit in the base position with the legs outstre...  \n",
       "1  Remain in the base position. Slowly move both ...  \n",
       "2  Remain in the base position. Keep the legs sho...  \n",
       "3  Remain in the base position. Bend the right kn...  \n",
       "4  Stay in the base position. Gently contract the...  "
      ]
     },
     "execution_count": 13,
     "metadata": {},
     "output_type": "execute_result"
    }
   ],
   "source": [
    "poses['Description'] = poses['Description'].apply(lambda x: x.split() if type(x) == str else x)\n",
    "poses['Breathing'] = poses['Breathing'].apply(lambda x: x.split() if type(x) == str else x)\n",
    "poses['awareness'] = poses['awareness'].apply(lambda x: x.split() if type(x) == str else x)\n",
    "\n",
    "poses.head()"
   ]
  },
  {
   "cell_type": "code",
   "execution_count": 14,
   "id": "0a326cf7-b732-45da-afdc-d20395a8053e",
   "metadata": {},
   "outputs": [
    {
     "data": {
      "text/html": [
       "<div>\n",
       "<style scoped>\n",
       "    .dataframe tbody tr th:only-of-type {\n",
       "        vertical-align: middle;\n",
       "    }\n",
       "\n",
       "    .dataframe tbody tr th {\n",
       "        vertical-align: top;\n",
       "    }\n",
       "\n",
       "    .dataframe thead th {\n",
       "        text-align: right;\n",
       "    }\n",
       "</style>\n",
       "<table border=\"1\" class=\"dataframe\">\n",
       "  <thead>\n",
       "    <tr style=\"text-align: right;\">\n",
       "      <th></th>\n",
       "      <th>AName</th>\n",
       "      <th>AID</th>\n",
       "      <th>tags</th>\n",
       "    </tr>\n",
       "  </thead>\n",
       "  <tbody>\n",
       "    <tr>\n",
       "      <th>0</th>\n",
       "      <td>Padanguli Naman</td>\n",
       "      <td>1</td>\n",
       "      <td>Sit in the base position with the legs outstre...</td>\n",
       "    </tr>\n",
       "    <tr>\n",
       "      <th>1</th>\n",
       "      <td>Goolf Naman</td>\n",
       "      <td>2</td>\n",
       "      <td>Remain in the base position. Slowly move both ...</td>\n",
       "    </tr>\n",
       "    <tr>\n",
       "      <th>2</th>\n",
       "      <td>Goolf Chakra</td>\n",
       "      <td>3</td>\n",
       "      <td>Remain in the base position. Keep the legs sho...</td>\n",
       "    </tr>\n",
       "    <tr>\n",
       "      <th>3</th>\n",
       "      <td>Goolf Ghooman</td>\n",
       "      <td>4</td>\n",
       "      <td>Remain in the base position. Bend the right kn...</td>\n",
       "    </tr>\n",
       "    <tr>\n",
       "      <th>4</th>\n",
       "      <td>Janufalak Akarshan</td>\n",
       "      <td>5</td>\n",
       "      <td>Stay in the base position. Gently contract the...</td>\n",
       "    </tr>\n",
       "  </tbody>\n",
       "</table>\n",
       "</div>"
      ],
      "text/plain": [
       "                AName  AID                                               tags\n",
       "0     Padanguli Naman    1  Sit in the base position with the legs outstre...\n",
       "1         Goolf Naman    2  Remain in the base position. Slowly move both ...\n",
       "2        Goolf Chakra    3  Remain in the base position. Keep the legs sho...\n",
       "3       Goolf Ghooman    4  Remain in the base position. Bend the right kn...\n",
       "4  Janufalak Akarshan    5  Stay in the base position. Gently contract the..."
      ]
     },
     "execution_count": 14,
     "metadata": {},
     "output_type": "execute_result"
    }
   ],
   "source": [
    "new_df = poses[['AName', 'AID', 'tags']]\n",
    "new_df.head()"
   ]
  },
  {
   "cell_type": "code",
   "execution_count": 15,
   "id": "e0f61109-887a-4f80-97c5-5f4c86fb0542",
   "metadata": {},
   "outputs": [
    {
     "data": {
      "text/plain": [
       "'Sit in the base position with the legs outstretched and the feet together. Place the hands beside and slightly behind the buttocks. Lean back a little, using the arms to support the back. Keep the spine straight. Be aware of the toes. Move only the toes of both feet slowly backward and fotward, keeping the feet upright and the ankles relaxed and motionless. Hold each position for a few seconds. Repeat 10 times.This group of asanas is concerned with loosening up the joints of the body. It is excellent for those debilitated by rheumatism, arthritis, high blood pressure, heart problems or other ail- ments where vigorous physical exercise is not advised. It is particularly useful for eliminating energy blockages in the joints of the physical body, and for improving coordination, self-awareness and self-confidence.Inhale as the toes move backward. Exhale as the toes move fotward.On the stretching produced by the movement and the breath.Beginners'"
      ]
     },
     "execution_count": 15,
     "metadata": {},
     "output_type": "execute_result"
    }
   ],
   "source": [
    "new_df.iloc[0]['tags']"
   ]
  },
  {
   "cell_type": "code",
   "execution_count": 16,
   "id": "f566669a-7f7b-4fea-acb1-6327ce5dd1da",
   "metadata": {},
   "outputs": [
    {
     "name": "stderr",
     "output_type": "stream",
     "text": [
      "/var/folders/4b/9tgdm98n6bs1yys46_wvpdrc0000gn/T/ipykernel_12573/3453636481.py:2: SettingWithCopyWarning: \n",
      "A value is trying to be set on a copy of a slice from a DataFrame.\n",
      "Try using .loc[row_indexer,col_indexer] = value instead\n",
      "\n",
      "See the caveats in the documentation: https://pandas.pydata.org/pandas-docs/stable/user_guide/indexing.html#returning-a-view-versus-a-copy\n",
      "  new_df['tags'] = new_df['tags'].apply(lambda x:x.lower())\n"
     ]
    },
    {
     "data": {
      "text/html": [
       "<div>\n",
       "<style scoped>\n",
       "    .dataframe tbody tr th:only-of-type {\n",
       "        vertical-align: middle;\n",
       "    }\n",
       "\n",
       "    .dataframe tbody tr th {\n",
       "        vertical-align: top;\n",
       "    }\n",
       "\n",
       "    .dataframe thead th {\n",
       "        text-align: right;\n",
       "    }\n",
       "</style>\n",
       "<table border=\"1\" class=\"dataframe\">\n",
       "  <thead>\n",
       "    <tr style=\"text-align: right;\">\n",
       "      <th></th>\n",
       "      <th>AName</th>\n",
       "      <th>AID</th>\n",
       "      <th>tags</th>\n",
       "    </tr>\n",
       "  </thead>\n",
       "  <tbody>\n",
       "    <tr>\n",
       "      <th>0</th>\n",
       "      <td>Padanguli Naman</td>\n",
       "      <td>1</td>\n",
       "      <td>sit in the base position with the legs outstre...</td>\n",
       "    </tr>\n",
       "    <tr>\n",
       "      <th>1</th>\n",
       "      <td>Goolf Naman</td>\n",
       "      <td>2</td>\n",
       "      <td>remain in the base position. slowly move both ...</td>\n",
       "    </tr>\n",
       "    <tr>\n",
       "      <th>2</th>\n",
       "      <td>Goolf Chakra</td>\n",
       "      <td>3</td>\n",
       "      <td>remain in the base position. keep the legs sho...</td>\n",
       "    </tr>\n",
       "    <tr>\n",
       "      <th>3</th>\n",
       "      <td>Goolf Ghooman</td>\n",
       "      <td>4</td>\n",
       "      <td>remain in the base position. bend the right kn...</td>\n",
       "    </tr>\n",
       "    <tr>\n",
       "      <th>4</th>\n",
       "      <td>Janufalak Akarshan</td>\n",
       "      <td>5</td>\n",
       "      <td>stay in the base position. gently contract the...</td>\n",
       "    </tr>\n",
       "  </tbody>\n",
       "</table>\n",
       "</div>"
      ],
      "text/plain": [
       "                AName  AID                                               tags\n",
       "0     Padanguli Naman    1  sit in the base position with the legs outstre...\n",
       "1         Goolf Naman    2  remain in the base position. slowly move both ...\n",
       "2        Goolf Chakra    3  remain in the base position. keep the legs sho...\n",
       "3       Goolf Ghooman    4  remain in the base position. bend the right kn...\n",
       "4  Janufalak Akarshan    5  stay in the base position. gently contract the..."
      ]
     },
     "execution_count": 16,
     "metadata": {},
     "output_type": "execute_result"
    }
   ],
   "source": [
    "#convert all to lowercase\n",
    "new_df['tags'] = new_df['tags'].apply(lambda x:x.lower())\n",
    "new_df.head()"
   ]
  },
  {
   "cell_type": "code",
   "execution_count": 17,
   "id": "ec6fb935-629a-4850-97fc-282542f157b1",
   "metadata": {},
   "outputs": [
    {
     "data": {
      "text/plain": [
       "'sit in the base position with the legs outstretched and the feet together. place the hands beside and slightly behind the buttocks. lean back a little, using the arms to support the back. keep the spine straight. be aware of the toes. move only the toes of both feet slowly backward and fotward, keeping the feet upright and the ankles relaxed and motionless. hold each position for a few seconds. repeat 10 times.this group of asanas is concerned with loosening up the joints of the body. it is excellent for those debilitated by rheumatism, arthritis, high blood pressure, heart problems or other ail- ments where vigorous physical exercise is not advised. it is particularly useful for eliminating energy blockages in the joints of the physical body, and for improving coordination, self-awareness and self-confidence.inhale as the toes move backward. exhale as the toes move fotward.on the stretching produced by the movement and the breath.beginners'"
      ]
     },
     "execution_count": 17,
     "metadata": {},
     "output_type": "execute_result"
    }
   ],
   "source": [
    "new_df.iloc[0]['tags']"
   ]
  },
  {
   "cell_type": "code",
   "execution_count": 18,
   "id": "21ef29ab-8fce-476f-a7d3-b6ad1c47fc83",
   "metadata": {},
   "outputs": [
    {
     "data": {
      "text/plain": [
       "(226, 3)"
      ]
     },
     "execution_count": 18,
     "metadata": {},
     "output_type": "execute_result"
    }
   ],
   "source": [
    "new_df.shape"
   ]
  },
  {
   "cell_type": "code",
   "execution_count": 19,
   "id": "a51867fb-a08c-4009-9a23-b0b7d39e6c43",
   "metadata": {},
   "outputs": [],
   "source": [
    "import nltk\n",
    "from nltk.stem import PorterStemmer\n",
    "ps = PorterStemmer()"
   ]
  },
  {
   "cell_type": "code",
   "execution_count": 20,
   "id": "972108e6-7169-4f78-b959-6a9752c0641e",
   "metadata": {},
   "outputs": [],
   "source": [
    "#function to fix the words and stem them\n",
    "def stems(text):\n",
    "    l = []\n",
    "    for i in text.split():\n",
    "        l.append(ps.stem(i)) #appending all the fixed words to the paragraph\n",
    "    return \" \".join(l)\n"
   ]
  },
  {
   "cell_type": "code",
   "execution_count": 21,
   "id": "5f931d1e-3fbd-4c99-bab6-1c514ceae0d1",
   "metadata": {},
   "outputs": [
    {
     "name": "stderr",
     "output_type": "stream",
     "text": [
      "/var/folders/4b/9tgdm98n6bs1yys46_wvpdrc0000gn/T/ipykernel_12573/3973021881.py:1: SettingWithCopyWarning: \n",
      "A value is trying to be set on a copy of a slice from a DataFrame.\n",
      "Try using .loc[row_indexer,col_indexer] = value instead\n",
      "\n",
      "See the caveats in the documentation: https://pandas.pydata.org/pandas-docs/stable/user_guide/indexing.html#returning-a-view-versus-a-copy\n",
      "  new_df['tags'] = new_df['tags'].apply(stems)\n"
     ]
    }
   ],
   "source": [
    "new_df['tags'] = new_df['tags'].apply(stems)"
   ]
  },
  {
   "cell_type": "code",
   "execution_count": 22,
   "metadata": {},
   "outputs": [
    {
     "data": {
      "text/plain": [
       "'sit in the base posit with the leg outstretch and the feet together. place the hand besid and slightli behind the buttocks. lean back a little, use the arm to support the back. keep the spine straight. be awar of the toes. move onli the toe of both feet slowli backward and fotward, keep the feet upright and the ankl relax and motionless. hold each posit for a few seconds. repeat 10 times.thi group of asana is concern with loosen up the joint of the body. it is excel for those debilit by rheumatism, arthritis, high blood pressure, heart problem or other ail- ment where vigor physic exercis is not advised. it is particularli use for elimin energi blockag in the joint of the physic body, and for improv coordination, self-awar and self-confidence.inhal as the toe move backward. exhal as the toe move fotward.on the stretch produc by the movement and the breath.beginn'"
      ]
     },
     "execution_count": 22,
     "metadata": {},
     "output_type": "execute_result"
    }
   ],
   "source": [
    "new_df.iloc[0]['tags']"
   ]
  },
  {
   "cell_type": "code",
   "execution_count": 23,
   "metadata": {},
   "outputs": [],
   "source": [
    "from sklearn.feature_extraction.text import CountVectorizer\n",
    "cv = CountVectorizer(max_features=5000, stop_words='english') #taking only 5000 words from the whole dataset and removing the stop words"
   ]
  },
  {
   "cell_type": "code",
   "execution_count": 24,
   "metadata": {},
   "outputs": [],
   "source": [
    "vector = cv.fit_transform(new_df['tags']).toarray() #fitting the vectorizer to the tags column"
   ]
  },
  {
   "cell_type": "code",
   "execution_count": 25,
   "metadata": {},
   "outputs": [
    {
     "data": {
      "text/plain": [
       "array([[0, 0, 1, ..., 0, 0, 0],\n",
       "       [0, 0, 1, ..., 0, 0, 0],\n",
       "       [0, 0, 6, ..., 0, 0, 0],\n",
       "       ...,\n",
       "       [0, 0, 0, ..., 0, 0, 0],\n",
       "       [0, 0, 1, ..., 0, 1, 0],\n",
       "       [0, 0, 0, ..., 0, 0, 0]])"
      ]
     },
     "execution_count": 25,
     "metadata": {},
     "output_type": "execute_result"
    }
   ],
   "source": [
    "vector"
   ]
  },
  {
   "cell_type": "code",
   "execution_count": 26,
   "metadata": {},
   "outputs": [
    {
     "data": {
      "text/plain": [
       "(226, 2219)"
      ]
     },
     "execution_count": 26,
     "metadata": {},
     "output_type": "execute_result"
    }
   ],
   "source": [
    "vector.shape"
   ]
  },
  {
   "cell_type": "code",
   "execution_count": 27,
   "metadata": {},
   "outputs": [],
   "source": [
    "from sklearn.metrics.pairwise import cosine_similarity #importing the cosine similarity function from the scikit-image library "
   ]
  },
  {
   "cell_type": "code",
   "execution_count": 28,
   "metadata": {},
   "outputs": [],
   "source": [
    "similarity = cosine_similarity(vector) #calculating the similarity of the vectors with each other and storing it in a variable called similarity"
   ]
  },
  {
   "cell_type": "code",
   "execution_count": 29,
   "metadata": {},
   "outputs": [
    {
     "data": {
      "text/plain": [
       "array([[1.        , 0.78441861, 0.48270758, ..., 0.19767387, 0.10221611,\n",
       "        0.11442217],\n",
       "       [0.78441861, 1.        , 0.53290751, ..., 0.14854398, 0.10497544,\n",
       "        0.10232056],\n",
       "       [0.48270758, 0.53290751, 1.        , ..., 0.10551589, 0.12069711,\n",
       "        0.11271511],\n",
       "       ...,\n",
       "       [0.19767387, 0.14854398, 0.10551589, ..., 1.        , 0.17236489,\n",
       "        0.1611552 ],\n",
       "       [0.10221611, 0.10497544, 0.12069711, ..., 0.17236489, 1.        ,\n",
       "        0.36190111],\n",
       "       [0.11442217, 0.10232056, 0.11271511, ..., 0.1611552 , 0.36190111,\n",
       "        1.        ]])"
      ]
     },
     "execution_count": 29,
     "metadata": {},
     "output_type": "execute_result"
    }
   ],
   "source": [
    "similarity"
   ]
  },
  {
   "cell_type": "code",
   "execution_count": 30,
   "metadata": {},
   "outputs": [
    {
     "data": {
      "text/plain": [
       "(226, 226)"
      ]
     },
     "execution_count": 30,
     "metadata": {},
     "output_type": "execute_result"
    }
   ],
   "source": [
    "similarity.shape"
   ]
  },
  {
   "cell_type": "code",
   "execution_count": 31,
   "metadata": {},
   "outputs": [
    {
     "data": {
      "text/plain": [
       "4"
      ]
     },
     "execution_count": 31,
     "metadata": {},
     "output_type": "execute_result"
    }
   ],
   "source": [
    "#function to recommend the asanas yoga pose based on the input\n",
    "new_df[new_df['AName'] == \"Janufalak Akarshan\"].index[0]\n"
   ]
  },
  {
   "cell_type": "code",
   "execution_count": 32,
   "metadata": {},
   "outputs": [],
   "source": [
    "#function to recommend the asanas yoga pose based on the input\n",
    "def recommend(yogapose):\n",
    "    index = new_df[new_df['AName'] == yogapose].index[0] #getting the index of the yoga pose\n",
    "    distances = sorted(list(enumerate(similarity[index])), reverse=True, key=lambda x: x[1]) #sorting the distances of the yoga pose from the other yoga poses in descending order\n",
    "    for i in distances[1:6]: #printing the top 5 similar yoga poses\n",
    "        print(new_df.iloc[i[0]].AName)"
   ]
  },
  {
   "cell_type": "code",
   "execution_count": 36,
   "metadata": {},
   "outputs": [
    {
     "name": "stdout",
     "output_type": "stream",
     "text": [
      "Shroni Chakra\n",
      "Goolf Naman\n",
      "Kehuni Chakra\n",
      "Padanguli Naman\n",
      "Manibandha Chakra\n"
     ]
    }
   ],
   "source": [
    "recommend('Goolf Chakra')"
   ]
  },
  {
   "cell_type": "code",
   "execution_count": 35,
   "metadata": {},
   "outputs": [],
   "source": [
    "import pickle\n",
    "\n",
    "pickle.dump(new_df, open('yoga_pose.pkl', 'wb')) #saving the dataframe to a pickle file wb = write binary\n",
    "pickle.dump(similarity, open('similarity.pkl', 'wb')) #saving the similarity to a pickle file wb = write binary"
   ]
  },
  {
   "cell_type": "code",
   "execution_count": 38,
   "metadata": {},
   "outputs": [
    {
     "name": "stderr",
     "output_type": "stream",
     "text": [
      "[nltk_data] Downloading package punkt to\n",
      "[nltk_data]     /Users/judeabouhajar/nltk_data...\n",
      "[nltk_data]   Unzipping tokenizers/punkt.zip.\n",
      "[nltk_data] Downloading package wordnet to\n",
      "[nltk_data]     /Users/judeabouhajar/nltk_data...\n",
      "[nltk_data] Downloading package stopwords to\n",
      "[nltk_data]     /Users/judeabouhajar/nltk_data...\n",
      "[nltk_data]   Unzipping corpora/stopwords.zip.\n"
     ]
    },
    {
     "data": {
      "text/plain": [
       "True"
      ]
     },
     "execution_count": 38,
     "metadata": {},
     "output_type": "execute_result"
    }
   ],
   "source": [
    "import nltk\n",
    "from nltk.stem import WordNetLemmatizer\n",
    "from nltk.tokenize import word_tokenize\n",
    "from nltk.corpus import stopwords\n",
    "\n",
    "nltk.download('punkt')\n",
    "nltk.download('wordnet')\n",
    "nltk.download('stopwords')"
   ]
  },
  {
   "cell_type": "code",
   "execution_count": 39,
   "metadata": {},
   "outputs": [],
   "source": [
    "#create lemmatizer and stopwords list \n",
    "#function that tokenizes, lemmatizes, and removes stop words from text\n",
    "lemmatizer = WordNetLemmatizer()\n",
    "stop_words = set(stopwords.words('english'))\n",
    "\n",
    "def lemmatize_and_remove_stopwords(text):\n",
    "    tokens = word_tokenize(text.lower())\n",
    "    lemmatized = [lemmatizer.lemmatize(token) for token in tokens if token not in stop_words and token.isalpha()]\n",
    "    return lemmatized"
   ]
  },
  {
   "cell_type": "code",
   "execution_count": 40,
   "metadata": {},
   "outputs": [],
   "source": [
    "poses['ProcessedDescription'] = poses['tags'].apply(lemmatize_and_remove_stopwords)"
   ]
  },
  {
   "cell_type": "code",
   "execution_count": 41,
   "metadata": {},
   "outputs": [
    {
     "data": {
      "text/html": [
       "<div>\n",
       "<style scoped>\n",
       "    .dataframe tbody tr th:only-of-type {\n",
       "        vertical-align: middle;\n",
       "    }\n",
       "\n",
       "    .dataframe tbody tr th {\n",
       "        vertical-align: top;\n",
       "    }\n",
       "\n",
       "    .dataframe thead th {\n",
       "        text-align: right;\n",
       "    }\n",
       "</style>\n",
       "<table border=\"1\" class=\"dataframe\">\n",
       "  <thead>\n",
       "    <tr style=\"text-align: right;\">\n",
       "      <th></th>\n",
       "      <th>AID</th>\n",
       "      <th>AName</th>\n",
       "      <th>Description</th>\n",
       "      <th>Benefits</th>\n",
       "      <th>Breathing</th>\n",
       "      <th>awareness</th>\n",
       "      <th>Level</th>\n",
       "      <th>tags</th>\n",
       "      <th>ProcessedDescription</th>\n",
       "    </tr>\n",
       "  </thead>\n",
       "  <tbody>\n",
       "    <tr>\n",
       "      <th>0</th>\n",
       "      <td>1</td>\n",
       "      <td>Padanguli Naman</td>\n",
       "      <td>[Sit, in, the, base, position, with, the, legs...</td>\n",
       "      <td>[This, group, of, asanas, is, concerned, with,...</td>\n",
       "      <td>[Inhale, as, the, toes, move, backward., Exhal...</td>\n",
       "      <td>[On, the, stretching, produced, by, the, movem...</td>\n",
       "      <td>Beginners</td>\n",
       "      <td>Sit in the base position with the legs outstre...</td>\n",
       "      <td>[sit, base, position, leg, outstretched, foot,...</td>\n",
       "    </tr>\n",
       "    <tr>\n",
       "      <th>1</th>\n",
       "      <td>2</td>\n",
       "      <td>Goolf Naman</td>\n",
       "      <td>[Remain, in, the, base, position., Slowly, mov...</td>\n",
       "      <td>[This, group, of, asanas, is, concerned, with,...</td>\n",
       "      <td>[Inhale, as, the, feet, move, backward., Exhal...</td>\n",
       "      <td>[On, the, stretch, in, the, foot,, ankle,, cal...</td>\n",
       "      <td>Beginners</td>\n",
       "      <td>Remain in the base position. Slowly move both ...</td>\n",
       "      <td>[remain, base, position, slowly, move, foot, b...</td>\n",
       "    </tr>\n",
       "    <tr>\n",
       "      <th>2</th>\n",
       "      <td>3</td>\n",
       "      <td>Goolf Chakra</td>\n",
       "      <td>[Remain, in, the, base, position., Keep, the, ...</td>\n",
       "      <td>[This, group, of, asanas, is, concerned, with,...</td>\n",
       "      <td>[Inhale, on, the, upward, movement., Exhale, o...</td>\n",
       "      <td>[On, the, rotation, of, the, ankle, and, the, ...</td>\n",
       "      <td>Beginners</td>\n",
       "      <td>Remain in the base position. Keep the legs sho...</td>\n",
       "      <td>[remain, base, position, keep, leg, apart, str...</td>\n",
       "    </tr>\n",
       "    <tr>\n",
       "      <th>3</th>\n",
       "      <td>4</td>\n",
       "      <td>Goolf Ghooman</td>\n",
       "      <td>[Remain, in, the, base, position., Bend, the, ...</td>\n",
       "      <td>[All, the, foot, and, calf, asanas, help, in, ...</td>\n",
       "      <td>[Inhale, on, the, upward, movement., Exhale, o...</td>\n",
       "      <td>[On, the, rotation, and, the, breath.]</td>\n",
       "      <td>Beginners</td>\n",
       "      <td>Remain in the base position. Bend the right kn...</td>\n",
       "      <td>[remain, base, position, bend, right, knee, br...</td>\n",
       "    </tr>\n",
       "    <tr>\n",
       "      <th>4</th>\n",
       "      <td>5</td>\n",
       "      <td>Janufalak Akarshan</td>\n",
       "      <td>[Stay, in, the, base, position., Gently, contr...</td>\n",
       "      <td>[This, group, of, asanas, is, concerned, with,...</td>\n",
       "      <td>[Inhale, while, contracting., Exhale, while, r...</td>\n",
       "      <td>[On, the, contraction, and, the, breath.]</td>\n",
       "      <td>Beginners</td>\n",
       "      <td>Stay in the base position. Gently contract the...</td>\n",
       "      <td>[stay, base, position, gently, contract, muscl...</td>\n",
       "    </tr>\n",
       "  </tbody>\n",
       "</table>\n",
       "</div>"
      ],
      "text/plain": [
       "   AID               AName                                        Description  \\\n",
       "0    1     Padanguli Naman  [Sit, in, the, base, position, with, the, legs...   \n",
       "1    2         Goolf Naman  [Remain, in, the, base, position., Slowly, mov...   \n",
       "2    3        Goolf Chakra  [Remain, in, the, base, position., Keep, the, ...   \n",
       "3    4       Goolf Ghooman  [Remain, in, the, base, position., Bend, the, ...   \n",
       "4    5  Janufalak Akarshan  [Stay, in, the, base, position., Gently, contr...   \n",
       "\n",
       "                                            Benefits  \\\n",
       "0  [This, group, of, asanas, is, concerned, with,...   \n",
       "1  [This, group, of, asanas, is, concerned, with,...   \n",
       "2  [This, group, of, asanas, is, concerned, with,...   \n",
       "3  [All, the, foot, and, calf, asanas, help, in, ...   \n",
       "4  [This, group, of, asanas, is, concerned, with,...   \n",
       "\n",
       "                                           Breathing  \\\n",
       "0  [Inhale, as, the, toes, move, backward., Exhal...   \n",
       "1  [Inhale, as, the, feet, move, backward., Exhal...   \n",
       "2  [Inhale, on, the, upward, movement., Exhale, o...   \n",
       "3  [Inhale, on, the, upward, movement., Exhale, o...   \n",
       "4  [Inhale, while, contracting., Exhale, while, r...   \n",
       "\n",
       "                                           awareness      Level  \\\n",
       "0  [On, the, stretching, produced, by, the, movem...  Beginners   \n",
       "1  [On, the, stretch, in, the, foot,, ankle,, cal...  Beginners   \n",
       "2  [On, the, rotation, of, the, ankle, and, the, ...  Beginners   \n",
       "3             [On, the, rotation, and, the, breath.]  Beginners   \n",
       "4          [On, the, contraction, and, the, breath.]  Beginners   \n",
       "\n",
       "                                                tags  \\\n",
       "0  Sit in the base position with the legs outstre...   \n",
       "1  Remain in the base position. Slowly move both ...   \n",
       "2  Remain in the base position. Keep the legs sho...   \n",
       "3  Remain in the base position. Bend the right kn...   \n",
       "4  Stay in the base position. Gently contract the...   \n",
       "\n",
       "                                ProcessedDescription  \n",
       "0  [sit, base, position, leg, outstretched, foot,...  \n",
       "1  [remain, base, position, slowly, move, foot, b...  \n",
       "2  [remain, base, position, keep, leg, apart, str...  \n",
       "3  [remain, base, position, bend, right, knee, br...  \n",
       "4  [stay, base, position, gently, contract, muscl...  "
      ]
     },
     "execution_count": 41,
     "metadata": {},
     "output_type": "execute_result"
    }
   ],
   "source": [
    "poses.head()"
   ]
  },
  {
   "cell_type": "code",
   "execution_count": null,
   "metadata": {},
   "outputs": [],
   "source": []
  },
  {
   "cell_type": "code",
   "execution_count": 51,
   "metadata": {},
   "outputs": [
    {
     "name": "stdout",
     "output_type": "stream",
     "text": [
      "[('position', 540), ('leg', 501), ('body', 433), ('arm', 402), ('right', 402), ('back', 348), ('knee', 346), ('hand', 343), ('foot', 330), ('head', 313), ('left', 291), ('floor', 269), ('breath', 264), ('final', 214), ('slowly', 201), ('straight', 197), ('asana', 193), ('muscle', 188), ('place', 186), ('relax', 182), ('bend', 178), ('exhale', 175), ('eye', 169), ('lower', 167), ('hold', 165), ('shoulder', 159), ('starting', 158), ('side', 152), ('comfortable', 151), ('spiritual', 150), ('balance', 147), ('raise', 142), ('spine', 137), ('stretch', 137), ('time', 132), ('movement', 128), ('finger', 127), ('practise', 125), ('close', 123), ('inhale', 123), ('whole', 120), ('thigh', 118), ('one', 113), ('palm', 110), ('repeat', 109), ('sit', 108), ('round', 107), ('chest', 106), ('together', 105), ('elbow', 103), ('keep', 102), ('practice', 101), ('forward', 101), ('buttock', 96), ('toe', 93), ('return', 91), ('may', 91), ('raising', 91), ('keeping', 89), ('front', 89), ('long', 88), ('abdominal', 86), ('bring', 84), ('trunk', 84), ('breathe', 83), ('mudra', 81), ('heel', 79), ('hip', 79), ('pose', 78), ('abdomen', 76), ('possible', 74), ('neck', 74), ('organ', 74), ('retain', 74), ('breathing', 73), ('normally', 73), ('slightly', 71), ('stage', 69), ('help', 69), ('inside', 69), ('point', 68), ('release', 67), ('without', 66), ('deeply', 66), ('second', 64), ('lowering', 64), ('upward', 63), ('rest', 63), ('chakra', 63), ('upright', 62), ('strain', 62), ('physical', 61), ('behind', 60), ('towards', 60), ('straighten', 59), ('remain', 58), ('strengthens', 57), ('pressure', 55), ('manipura', 54), ('move', 53), ('joint', 53), ('throughout', 53), ('upper', 52), ('chin', 52), ('backward', 51), ('fotward', 51), ('blood', 51), ('energy', 51), ('weight', 51), ('thumb', 51), ('flat', 51), ('meditation', 51), ('nostril', 51), ('touch', 50), ('mooladhara', 50), ('apart', 49), ('also', 49), ('ankle', 48), ('bending', 48), ('returning', 46), ('lie', 46), ('system', 46), ('gaze', 46), ('centre', 46), ('tone', 46), ('holding', 45), ('posture', 45), ('gently', 44), ('awareness', 44), ('stand', 43), ('open', 42), ('mind', 42), ('ajna', 41), ('make', 40), ('nerve', 39), ('maintaining', 39), ('top', 38), ('level', 38), ('pelvic', 38), ('nervous', 38), ('take', 38), ('swadhisthana', 38), ('especially', 37), ('flow', 37), ('relaxing', 36), ('outside', 36), ('process', 35), ('high', 34), ('useful', 34), ('try', 34), ('tension', 34), ('twist', 34), ('area', 34), ('improves', 34), ('bringing', 33), ('padmasana', 33), ('facing', 33), ('moving', 33), ('stimulates', 33), ('ground', 32), ('focus', 32), ('fixed', 32), ('maintain', 31), ('relaxation', 31), ('pointing', 31), ('develops', 31), ('increase', 31), ('region', 31), ('vertical', 31), ('outstretched', 30), ('line', 30), ('spinal', 30), ('raised', 30), ('benefit', 30), ('support', 29), ('straining', 29), ('wrist', 29), ('effect', 29), ('aware', 28), ('relaxed', 28), ('excellent', 28), ('contraction', 28), ('around', 28), ('become', 28), ('bandha', 28), ('vishuddhi', 28), ('lean', 27), ('perineum', 27), ('first', 27), ('nose', 27), ('perform', 27), ('press', 27), ('far', 26), ('normal', 26), ('sensation', 26), ('massage', 26), ('grasp', 26), ('big', 26), ('sense', 26), ('short', 26), ('jnana', 25), ('reproductive', 25), ('performed', 25), ('prana', 25), ('sirshasana', 25), ('fist', 24), ('closed', 24), ('turn', 24), ('deep', 24), ('simultaneously', 24), ('circulation', 24), ('minute', 24), ('erect', 24), ('base', 23), ('heart', 23), ('exercise', 23), ('opposite', 23), ('come', 23), ('interlock', 23), ('remove', 23), ('face', 23), ('feel', 23), ('contact', 23), ('inhalation', 23), ('stomach', 23), ('assume', 23), ('brain', 23), ('little', 22), ('using', 22), ('stretching', 22), ('directly', 22), ('respiration', 22), ('give', 22), ('vajrasana', 22), ('gland', 22), ('anahata', 22), ('fully', 21), ('standing', 21), ('digestive', 21), ('lung', 21), ('twisting', 21), ('relief', 21), ('mental', 21), ('placing', 21), ('either', 21), ('exhalation', 21), ('forehead', 21), ('onto', 21), ('mouth', 21), ('throat', 21), ('form', 21), ('downward', 20), ('em', 20), ('bent', 20), ('ear', 20), ('gradually', 20), ('sound', 20), ('eyebrow', 20), ('period', 20), ('end', 20), ('crown', 20), ('beside', 19), ('coordination', 19), ('rotate', 19), ('push', 19), ('entire', 19), ('sideways', 19), ('synchronizing', 19), ('beginner', 19), ('look', 19), ('state', 19), ('tip', 19), ('moola', 19), ('induces', 19), ('tongue', 19), ('improving', 18), ('calf', 18), ('clockwise', 18), ('near', 18), ('way', 18), ('used', 18), ('beneficial', 18), ('constipation', 18), ('allow', 18), ('many', 18), ('air', 18), ('concentration', 18), ('inner', 17), ('index', 17), ('two', 17), ('disorder', 17), ('adjust', 17), ('slow', 17), ('liver', 17), ('water', 17), ('loosening', 16), ('forearm', 16), ('sitting', 16), ('middle', 16), ('separate', 16), ('stretched', 16), ('supported', 16), ('becomes', 16), ('sahasrara', 16), ('control', 16), ('good', 16), ('problem', 15), ('particularly', 15), ('rotation', 15), ('sol', 15), ('resting', 15), ('vertebra', 15), ('sole', 15), ('waist', 15), ('foiward', 15), ('space', 15), ('nosetip', 15), ('arch', 15), ('firmly', 15), ('width', 15), ('practitioner', 15), ('fold', 15), ('duration', 15), ('direction', 14), ('let', 14), ('clasp', 14), ('steady', 14), ('lift', 14), ('held', 14), ('stimulating', 14), ('balancing', 14), ('releasing', 14), ('torso', 14), ('nan', 14), ('blockage', 13), ('placed', 13), ('mentally', 13), ('continue', 13), ('allowing', 13), ('complete', 13), ('inhaling', 13), ('shavasana', 13), ('swing', 13), ('smoothly', 13), ('extended', 13), ('chakras', 13), ('diaphragm', 13), ('length', 13), ('eliminating', 12), ('relieve', 12), ('straightening', 12), ('people', 12), ('next', 12), ('exhaling', 12), ('roll', 12), ('practised', 12), ('flexibility', 12), ('number', 12), ('balanced', 12), ('finally', 12), ('increased', 12), ('lock', 12), ('pranayama', 12), ('bhujangasana', 12), ('half', 12), ('assuming', 12), ('group', 11), ('rheumatism', 11), ('draw', 11), ('much', 11), ('cross', 11), ('large', 11), ('completely', 11), ('coming', 11), ('touching', 11), ('bone', 11), ('loosens', 11), ('backwards', 11), ('pull', 11), ('horizontal', 11), ('focusing', 11), ('folded', 11), ('pranic', 11), ('yoni', 11), ('reach', 11), ('thyroid', 11), ('jalandhara', 11), ('addition', 11), ('anxiety', 11), ('neti', 11), ('concerned', 10), ('debilitated', 10), ('arthritis', 10), ('ments', 10), ('vigorous', 10), ('advised', 10), ('stay', 10), ('contract', 10), ('meditative', 10), ('pressing', 10), ('smooth', 10), ('necessary', 10), ('rhythmic', 10), ('therefore', 10), ('stiffness', 10), ('muscular', 10), ('toning', 10), ('reverse', 10), ('order', 10), ('blade', 10), ('away', 10), ('relieving', 10), ('encourages', 10), ('synchronized', 10), ('begin', 10), ('psychic', 10), ('influence', 10), ('shambhavi', 10), ('shashankasana', 10), ('metre', 10), ('anger', 10), ('ujjayi', 10), ('nadi', 10), ('groin', 9), ('sure', 9), ('thus', 9), ('force', 9), ('use', 9), ('fonvard', 9), ('limb', 9), ('though', 9), ('removing', 9), ('along', 9), ('longer', 9), ('maximum', 9), ('pelvis', 9), ('month', 9), ('making', 9), ('compression', 9), ('difficult', 9), ('relaxes', 9), ('ann', 9), ('nasikagra', 9), ('drishti', 9), ('even', 9), ('feeling', 9), ('resume', 9), ('peristalsis', 9), ('cause', 9), ('practising', 9), ('carefully', 9), ('calm', 9), ('sexual', 9), ('tranquillity', 9), ('amount', 9), ('adrenal', 9), ('visceral', 9), ('hamstring', 9), ('supple', 9), ('paschimottanasana', 9), ('internal', 9), ('khechari', 9), ('separated', 8), ('circular', 8), ('ardha', 8), ('related', 8), ('parallel', 8), ('retaining', 8), ('imagine', 8), ('higher', 8), ('firm', 8), ('action', 8), ('squat', 8), ('ailment', 8), ('several', 8), ('focused', 8), ('technique', 8), ('excess', 8), ('uppermost', 8), ('redirects', 8), ('light', 8), ('retention', 8), ('tense', 8), ('reduces', 8), ('kidney', 8), ('however', 8), ('regulates', 8), ('blanket', 8), ('alleviating', 8), ('asthma', 8), ('secretion', 8), ('activates', 8), ('root', 8), ('revers', 8), ('ring', 8), ('lip', 8), ('produced', 7), ('tum', 7), ('change', 7), ('counting', 7), ('contracting', 7), ('stability', 7), ('shin', 7), ('still', 7), ('achieved', 7), ('wide', 7), ('work', 7), ('turning', 7), ('menstrual', 7), ('fo', 7), ('immediately', 7), ('kept', 7), ('step', 7), ('lever', 7), ('revitalizes', 7), ('inducing', 7), ('fix', 7), ('tired', 7), ('disc', 7), ('helpful', 7), ('pain', 7), ('allows', 7), ('concentrate', 7), ('backache', 7), ('reduced', 7), ('important', 7), ('applied', 7), ('alleviates', 7), ('awaken', 7), ('armpit', 7), ('tilt', 7), ('emotional', 7), ('navel', 7), ('transferring', 7), ('preparation', 7), ('prone', 7), ('awakening', 7), ('pancreas', 7), ('diabetes', 7), ('intestinal', 7), ('controlled', 7), ('transfer', 7), ('powerful', 7), ('carbon', 7), ('dioxide', 7), ('rate', 7), ('free', 6), ('aid', 6), ('tiredness', 6), ('prevent', 6), ('kneecap', 6), ('pulling', 6), ('healing', 6), ('comfortably', 6), ('circle', 6), ('extend', 6), ('prolonged', 6), ('correct', 6), ('squatting', 6), ('turned', 6), ('toned', 6), ('pushing', 6), ('r', 6), ('power', 6), ('every', 6), ('well', 6), ('inward', 6), ('equal', 6), ('soothing', 6), ('palming', 6), ('completing', 6), ('drawn', 6), ('natural', 6), ('activity', 6), ('experienced', 6), ('expanding', 6), ('lying', 6), ('like', 6), ('experience', 6), ('calming', 6), ('kneel', 6), ('chakrabeginners', 6), ('removed', 6), ('thought', 6), ('taking', 6), ('swinging', 6), ('another', 6), ('find', 6), ('flexible', 6), ('angle', 6), ('hang', 6), ('health', 6), ('coccyx', 6), ('alleviate', 6), ('increasing', 6), ('stimulate', 6), ('develop', 6), ('halasana', 6), ('partner', 6), ('within', 6), ('rapid', 6), ('nadis', 6), ('external', 6), ('circuit', 6), ('anal', 6), ('thread', 6), ('stagnant', 5), ('ligament', 5), ('due', 5), ('opening', 5), ('anns', 5), ('upwards', 5), ('wind', 5), ('although', 5), ('three', 5), ('looking', 5), ('count', 5), ('woman', 5), ('tensing', 5), ('heartbeat', 5), ('alternately', 5), ('run', 5), ('spontaneous', 5), ('viewing', 5), ('lateral', 5), ('preferably', 5), ('discomfort', 5), ('described', 5), ('equally', 5), ('suffering', 5), ('sciatica', 5), ('simple', 5), ('interlocked', 5), ('vein', 5), ('siddhasana', 5), ('larger', 5), ('given', 5), ('alignment', 5), ('automatically', 5), ('cord', 5), ('brahmacharya', 5), ('supply', 5), ('performing', 5), ('case', 5), ('female', 5), ('digestion', 5), ('various', 5), ('functioning', 5), ('similar', 5), ('inverted', 5), ('degree', 5), ('remaining', 5), ('fingertip', 5), ('intestine', 5), ('fmal', 5), ('full', 5), ('outward', 5), ('completes', 5), ('lightness', 5), ('fat', 5), ('spontaneously', 5), ('moment', 5), ('slide', 5), ('general', 5), ('supporting', 5), ('generally', 5), ('advanced', 5), ('respiratory', 5), ('tendency', 5), ('strength', 5), ('disturbance', 5), ('imbalance', 5), ('rectify', 5), ('glandular', 5), ('gravity', 5), ('reversed', 5), ('santolanasana', 5), ('plane', 5), ('stress', 5), ('creates', 5), ('per', 5), ('uddiyana', 5), ('sinus', 5), ('nozzle', 5), ('catheter', 5), ('procedure', 4), ('cramp', 4), ('drawing', 4), ('strong', 4), ('activating', 4), ('synchronization', 4), ('preparatory', 4), ('toward', 4), ('loose', 4), ('caused', 4), ('almost', 4), ('cervical', 4), ('spondylitis', 4), ('repeated', 4), ('effort', 4), ('cycling', 4), ('alternate', 4), ('massaging', 4), ('fe', 4), ('et', 4), ('adjustment', 4), ('plexus', 4), ('start', 4), ('pregnancy', 4), ('leaning', 4), ('expel', 4), ('profound', 4), ('small', 4), ('walk', 4), ('heat', 4), ('humour', 4), ('quickly', 4), ('blinking', 4), ('following', 4), ('forming', 4), ('continuing', 4), ('clear', 4), ('surroundings', 4), ('ideally', 4), ('slipped', 4), ('felt', 4), ('sciatic', 4), ('facilitates', 4), ('genitals', 4), ('anus', 4), ('purpose', 4), ('affect', 4), ('avoid', 4), ('arching', 4), ('sufficient', 4), ('stronger', 4), ('giving', 4), ('forceful', 4), ('individual', 4), ('regular', 4), ('arched', 4), ('act', 4), ('evenly', 4), ('rounded', 4), ('capacity', 4), ('oxygen', 4), ('crossed', 4), ('spreading', 4), ('expansion', 4), ('target', 4), ('postural', 4), ('helping', 4), ('height', 4), ('provide', 4), ('wrap', 4), ('depression', 4), ('initial', 4), ('drainage', 4), ('forcefully', 4), ('made', 4), ('stimulated', 4), ('function', 4), ('vitality', 4), ('peace', 4), ('insert', 4), ('appetite', 4), ('lifting', 4), ('massaged', 4), ('brings', 4), ('coordinate', 4), ('rapidly', 4), ('seated', 4), ('tion', 4), ('lotus', 4), ('must', 4), ('considered', 4), ('greatest', 4), ('psychological', 4), ('hay', 4), ('fever', 4), ('menopausal', 4), ('alleviated', 4), ('tissue', 4), ('eration', 4), ('subtle', 4), ('adept', 4), ('lowered', 4), ('toxin', 4), ('phlegm', 4), ('apana', 4), ('chakranan', 4), ('would', 4), ('fast', 4), ('hemisphere', 4), ('teeth', 4), ('palate', 4), ('manner', 4), ('located', 4), ('humming', 4), ('correctly', 4)]\n"
     ]
    }
   ],
   "source": [
    "#To get a more comprehensive view, you can aggregate the words to see which are most common. This can be done by flattening all lists in the ProcessedDescription column and then using a frequency distribution.\n",
    "\n",
    "from collections import Counter\n",
    "\n",
    "# Flatten the list of lists into a single list of words\n",
    "all_words = [word for description in poses['ProcessedDescription'] for word in description]\n",
    "\n",
    "# Count the frequency of each word\n",
    "word_freq = Counter(all_words)\n",
    "\n",
    "# Display the most common words\n",
    "print(word_freq.most_common(800))  # Adjust the number to see more or fewer common words\n"
   ]
  },
  {
   "cell_type": "code",
   "execution_count": 73,
   "metadata": {},
   "outputs": [],
   "source": [
    "mood_keywords = {\n",
    "    \"frustrated\": lemmatize_and_remove_stopwords(\" menopausal fever tension\"),\n",
    "    \"sad\": lemmatize_and_remove_stopwords(\" phsychological depression humour\"),\n",
    "    \"anxious\": lemmatize_and_remove_stopwords(\"nervous relaxtion imbalance\"),\n",
    "    \"happy\": lemmatize_and_remove_stopwords(\"spiritual stronger plexus\")\n",
    "}"
   ]
  },
  {
   "cell_type": "code",
   "execution_count": 74,
   "metadata": {},
   "outputs": [],
   "source": [
    "#function that recommends poses based on mood keywords\n",
    "def recommend_by_mood(mood, poses):\n",
    "    recommended_poses = []\n",
    "    keywords = mood_keywords.get(mood, [])\n",
    "    for index, row in poses.iterrows():\n",
    "        if any(keyword in row['ProcessedDescription'] for keyword in keywords):\n",
    "            recommended_poses.append(row['AName'])\n",
    "    return recommended_poses"
   ]
  },
  {
   "cell_type": "code",
   "execution_count": 75,
   "metadata": {},
   "outputs": [
    {
     "name": "stdout",
     "output_type": "stream",
     "text": [
      "['Naukasana', 'Padmasana (lotus pose)', 'Siddhasana (accomplished pose for men)', 'Siddha Yoni Asana (accomplished pose for women)', 'VAJRASANA', 'ANANDA MADIRASANA', 'PADADHIRASANA', 'SIMHAGARJANASANA', 'Ashwa Sanchalanasana (equestrian pose)', 'TRIKONASANA', 'Saithalyasana (animal relaxation pose)', 'Sirsha Angustha Yogasana (head to toe pose)', 'Sarvangasana (shoulder stand pose)', 'Moordhasana. (crown-based pose)', 'Sirshasana (headstand pose)', 'Salamba Sirshasana (supported\\nheadstand pose)', 'Niralamba Sirshasana (unsupported headstand pose)', 'Kapali Asana (forehead supported pose)', 'Eka Pada Pranamasana (one-legged prayer pose)', \"Natavarasana (Lord Krishna's pose)\", \"Tandavasana (Lord Shiva's dance)\", 'Eka Padasana (one foot pose)', 'Bakasana (crane pose)', 'Utthita Hasta Padangusthasana (raised hand to big toe\\npose)', 'Merudandasana (spinal column pose)', 'Baka Dhyanasana (patient crane pose)', 'Santolanasana (balancing pose)', \"Vashishthasana (Sage Vashishtha's pose)\", 'Chakrasana (wheel pose)', 'Dwi Pada Kandharasana (two-legged shoulder pose)', 'UJJAYI PRANAYAMA ', 'BHASTRIKA PRANAYAMA', 'KAPALBHATI PRANAYAMA ', 'Surya Bheda Pranayama (vitality stimulating breath) ', 'Pashinee Mudra (folded psychic attitude)']\n"
     ]
    }
   ],
   "source": [
    "print(recommend_by_mood(\"anxious\", poses))\n"
   ]
  },
  {
   "cell_type": "code",
   "execution_count": 76,
   "metadata": {},
   "outputs": [
    {
     "name": "stdout",
     "output_type": "stream",
     "text": [
      "['Supta Udarakarshanasana', 'Shavasana (corpse pose)', 'Advasana (reversed corpse pose)', 'Jyestikasana (superior posture)', 'Makarasana (crocodile pose)', 'Matsya Kridasana (flapping fish pose)', 'Siddhasana (accomplished pose for men)', 'Siddha Yoni Asana (accomplished pose for women)', 'VAJRASANA', 'ANANDA MADIRASANA', 'PADADHIRASANA', 'BHADRASANA', 'SIMHAGARJANASANA', \"Veerasana (hero's pose)\", 'MARJARI-ASANA ', 'VYAGHRASANA', 'SHASHANK BHUJANGASANA', 'Naman Pranamasana (prostration pose)', 'Ashwa Sanchalanasana (equestrian pose)', 'ARDHA USHTRASANA', 'Ushtrasana (camel pose)', 'SUPTA VAJRASANA', 'TADASANA', 'TIRYAKA TADASANA', 'SAMAKONASANA', 'DWIKONASANA', 'TRIKONASANA', 'DOLASANA', 'PRANAMASANA', 'HASTA UTTHANASANA', 'PADAHASTASANA', 'ASHWA SANCHALANASANA', 'PARVATASANA', 'ASHTANGA NAMASKARA', 'Bhujangasana (cobra pose)', 'Yogamudrasana (psychic union pose)', 'Gupta Padmasana (hidden lotus pose)', 'Baddha Padmasana (locked lotus pose)', 'Garbhasana (womb pose)', 'Tolangulasana (weighing scale pose)', 'Saral Bhujangasana (easy cobra pose)', 'Tiryaka Bhujangasana (twisting cobra pose)', 'Sarpasana (snake pose)', 'Ardha Shalabhasana (half locust pose)', 'Shalabhasana (locust pose)', 'Saral Dhanurasana (easy bow pose)', 'Dhanurasana (bow pose)', 'Kandharasana (shoulder pose)', 'Utthan Pristhasana (lizard pose)', 'Setu Asana (bridge pose)', \"Gomukhasana (cow's face pose)\", 'Saithalyasana (animal relaxation pose)', 'Paschimottanasana (back stretching pose)', 'Gatyatmak Paschimottanasana (dynamic back stretch pose)', 'Pada Prasar Paschimottanasana (legs spread back\\nstretch pose)', 'Hasta Pada Angushthasana (finger to toe stretch)', 'Meru Akarshanasana (spinal bending pose)', 'Sirsha Angustha Yogasana (head to toe pose)', 'Utthita Janu Sirshasana (standing head between knees pose)', 'Eka Padottanasana (one leg raised to head pose)', 'Meru Wakrasana (spinal twist)', 'Bhu Namanasana (spinal twist prostration pose)', 'Ardha Matsyendrasana (half spinal twist)', 'Parivritti Janu Sirshasana (spiralled head to knee pose)', 'Bhumi Pada Mastakasana (half headstand)', 'Moordhasana. (crown-based pose)', 'Padma Sarvangasana (shoulder stand lotus pose)', 'Poorwa Halasana (preliminary plough pose)', 'Halasana (plough pose)', 'Druta Halasana (dynamic plough pose)', 'Ardha Padma Halasana (half lotus plough pose)', 'Stambhan Asana (posture of retention)', 'Sirshasana (headstand pose)', 'Salamba Sirshasana (supported\\nheadstand pose)', 'Niralamba Sirshasana (unsupported headstand pose)', 'Oordhwa Padmasana (headstand lotus pose)', 'Kapali Asana (forehead supported pose)', 'Eka Pada Pranamasana (one-legged prayer pose)', \"Natavarasana (Lord Krishna's pose)\", 'Garudasana (eagle pose)', \"Tandavasana (Lord Shiva's dance)\", 'Eka Padasana (one foot pose)', 'Bakasana (crane pose)', 'Utthita Hasta Padangusthasana (raised hand to big toe\\npose)', 'Merudandasana (spinal column pose)', 'Niralamba Paschimottanasana (unsupported back\\nstretching pose)', 'Ardha Padma Padottanasana (half lotus leg stretch pose)', 'Vatayanasana (flying horse pose)', 'Pada Angushthasana (tiptoe pose)', 'Baka Dhyanasana (patient crane pose)', 'Dwi Hasta Bhujasana (two hands and arms pose)', 'Eka Hasta Bhujasana (single hand and arm pose)', 'Hamsasana (swan pose)', 'Santolanasana (balancing pose)', \"Vashishthasana (Sage Vashishtha's pose)\", 'Pooma Bhujangasana (full cobra pose)', 'Koormasana (tortoise pose)', 'Poorna Shalabhasana (full locust pose)', \"Dhanurakarshanasana (archer's pose)\", 'Prishthasana (back pose)', 'Parighasana (beam or cross-bar pose)', 'Chakrasana (wheel pose)', \"Hanumanasana (Hanuman's pose\", \"Brahmacharyasana (celibate's. pose)\", 'Grivasana (neck pose)', 'Sirshapada Bhumi Sparshasana (head and foot touching the ground pose)', 'Pooma Matsyendrasana (full spinal twist pose)', 'Mayurasana (peacock pose)', 'Moolabandhasana (perineal contraction pose)', \"Gorakshasana (Yogi Gorakhnath's pose)\", 'Astavakrasana (eight-twists pose)', 'Vrischikasana (scorpion pose', 'Eka Pada Sirasana (one foot to head pose)', 'Dwi Pada Kandharasana (two-legged shoulder pose)', 'Padma Parvatasana (lotus mountain pose)', \"Kashyapasana (Sage Kashyapa's pose)\", \"Vishwamitrasana (Sage Vishwamitra's pose)\", 'NADI SHODHANA PRANAYAMA', 'BHRAMARI PRANAYAMA ', 'BHASTRIKA PRANAYAMA', 'KAPALBHATI PRANAYAMA ', 'MOORCHHA PRANAYAMA', 'Hridaya Mudra (heart gesture) ', 'Shambhavi Mudra (eyebrow centre gazing)', 'Nasikagra Drishti (nosetip gazing)', 'Khechari Mudra (tongue lock)', 'Bhoochari Mudra (gazing into nothingness) ', 'Shanmukhi Mudra (closing the seven gates)', 'Vipareeta Karani Mudra (inverted psychic attitude)', 'Pashinee Mudra (folded psychic attitude)', 'TADAGI MUDRA', 'Yoga Mudra (attitude of psychic union)', 'Manduki Mudra (gesture of the frog)', 'Maha Vedha Mudra (the great piercing attitude)', 'ASHWINI MUDRA', 'VAJROLI/SAHAJOLI MUDRA', 'JALANDHARA BANDHA', 'MOOLA BANDHA', 'UDDIYANA BANDHA', 'MAHA BANDHA', 'JALA NETI', 'SUTRA NETI']\n"
     ]
    }
   ],
   "source": [
    "print(recommend_by_mood(\"happy\", poses))"
   ]
  },
  {
   "cell_type": "code",
   "execution_count": 79,
   "metadata": {},
   "outputs": [],
   "source": [
    "import pickle\n",
    "\n",
    "pickle.dump(poses, open('yoga_mood.pkl', 'wb')) #saving the dataframe to a pickle file wb = write binary"
   ]
  }
 ],
 "metadata": {
  "kernelspec": {
   "display_name": "Python 3 (ipykernel)",
   "language": "python",
   "name": "python3"
  },
  "language_info": {
   "codemirror_mode": {
    "name": "ipython",
    "version": 3
   },
   "file_extension": ".py",
   "mimetype": "text/x-python",
   "name": "python",
   "nbconvert_exporter": "python",
   "pygments_lexer": "ipython3",
   "version": "3.9.6"
  }
 },
 "nbformat": 4,
 "nbformat_minor": 5
}
